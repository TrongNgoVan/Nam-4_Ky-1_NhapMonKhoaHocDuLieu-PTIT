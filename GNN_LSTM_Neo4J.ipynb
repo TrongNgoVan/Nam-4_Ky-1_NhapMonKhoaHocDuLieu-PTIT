{
  "nbformat": 4,
  "nbformat_minor": 0,
  "metadata": {
    "colab": {
      "provenance": [],
      "authorship_tag": "ABX9TyPOaAOHl55WiqdZCDaw4Wbv",
      "include_colab_link": true
    },
    "kernelspec": {
      "name": "python3",
      "display_name": "Python 3"
    },
    "language_info": {
      "name": "python"
    }
  },
  "cells": [
    {
      "cell_type": "markdown",
      "metadata": {
        "id": "view-in-github",
        "colab_type": "text"
      },
      "source": [
        "<a href=\"https://colab.research.google.com/github/TrongNgoVan/Nam-4_Ky-1_NhapMonKhoaHocDuLieu-PTIT/blob/master/GNN_LSTM_Neo4J.ipynb\" target=\"_parent\"><img src=\"https://colab.research.google.com/assets/colab-badge.svg\" alt=\"Open In Colab\"/></a>"
      ]
    },
    {
      "cell_type": "code",
      "execution_count": null,
      "metadata": {
        "id": "STLe9R8ZoH7D"
      },
      "outputs": [],
      "source": []
    }
  ]
}